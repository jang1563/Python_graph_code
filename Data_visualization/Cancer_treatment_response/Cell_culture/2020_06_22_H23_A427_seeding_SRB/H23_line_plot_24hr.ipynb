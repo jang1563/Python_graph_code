{
 "cells": [
  {
   "cell_type": "code",
   "execution_count": 1,
   "metadata": {},
   "outputs": [],
   "source": [
    "import seaborn as sns, matplotlib.pyplot as plt\n",
    "import numpy as np\n",
    "import pandas as pd\n",
    "\n",
    "%matplotlib inline\n",
    "\n",
    "sns.set(style=\"whitegrid\")\n",
    "\n",
    "\n",
    "data = pd.read_excel('H23-24hr.xlsx')"
   ]
  },
  {
   "cell_type": "code",
   "execution_count": 2,
   "metadata": {},
   "outputs": [
    {
     "data": {
      "text/html": [
       "<div>\n",
       "<style scoped>\n",
       "    .dataframe tbody tr th:only-of-type {\n",
       "        vertical-align: middle;\n",
       "    }\n",
       "\n",
       "    .dataframe tbody tr th {\n",
       "        vertical-align: top;\n",
       "    }\n",
       "\n",
       "    .dataframe thead th {\n",
       "        text-align: right;\n",
       "    }\n",
       "</style>\n",
       "<table border=\"1\" class=\"dataframe\">\n",
       "  <thead>\n",
       "    <tr style=\"text-align: right;\">\n",
       "      <th></th>\n",
       "      <th>Cell number</th>\n",
       "      <th>Time</th>\n",
       "      <th>Cell confluence</th>\n",
       "    </tr>\n",
       "  </thead>\n",
       "  <tbody>\n",
       "    <tr>\n",
       "      <th>0</th>\n",
       "      <td>5000</td>\n",
       "      <td>24 hr (1st)</td>\n",
       "      <td>0.942721</td>\n",
       "    </tr>\n",
       "    <tr>\n",
       "      <th>1</th>\n",
       "      <td>5000</td>\n",
       "      <td>24 hr (2nd)</td>\n",
       "      <td>0.978520</td>\n",
       "    </tr>\n",
       "    <tr>\n",
       "      <th>2</th>\n",
       "      <td>5000</td>\n",
       "      <td>24 hr (3rd)</td>\n",
       "      <td>1.014320</td>\n",
       "    </tr>\n",
       "    <tr>\n",
       "      <th>3</th>\n",
       "      <td>5000</td>\n",
       "      <td>24 hr (4th)</td>\n",
       "      <td>1.026253</td>\n",
       "    </tr>\n",
       "    <tr>\n",
       "      <th>4</th>\n",
       "      <td>5000</td>\n",
       "      <td>24 hr (5th)</td>\n",
       "      <td>1.038186</td>\n",
       "    </tr>\n",
       "  </tbody>\n",
       "</table>\n",
       "</div>"
      ],
      "text/plain": [
       "   Cell number         Time  Cell confluence\n",
       "0         5000  24 hr (1st)         0.942721\n",
       "1         5000  24 hr (2nd)         0.978520\n",
       "2         5000  24 hr (3rd)         1.014320\n",
       "3         5000  24 hr (4th)         1.026253\n",
       "4         5000  24 hr (5th)         1.038186"
      ]
     },
     "execution_count": 2,
     "metadata": {},
     "output_type": "execute_result"
    }
   ],
   "source": [
    "data.head()"
   ]
  },
  {
   "cell_type": "code",
   "execution_count": null,
   "metadata": {},
   "outputs": [],
   "source": [
    "sns.barplot(x=\"Cell number\", y=\"Cell confluence\", data=data, capsize=.3, ci=\"sd\")\n",
    "sns.swarmplot(x=\"Cell number\", y=\"Cell confluence\", data=data, color=\"0\", alpha=.35)\n",
    "sns.pointplot(x=\"Cell number\", y=\"Cell confluence\", data=data, color=\"0.5\")\n",
    "\n",
    "plt.show()"
   ]
  },
  {
   "cell_type": "code",
   "execution_count": null,
   "metadata": {},
   "outputs": [],
   "source": [
    "sns.barplot(x=\"Cell number\", y=\"Cell confluence\", data=data, capsize=.3, ci=\"sd\")\n",
    "sns.swarmplot(x=\"Cell number\", y=\"Cell confluence\", data=data, color=\"0\", alpha=.35)\n",
    "sns.pointplot(x=\"Cell number\", y=\"Cell confluence\", data=data, color=\"0.5\")\n",
    "\n",
    "plt.title('H23 confluence 24 hr', fontsize=20)\n",
    "plt.savefig('H23 confluence 24 hr', dpi = 300)"
   ]
  },
  {
   "cell_type": "code",
   "execution_count": null,
   "metadata": {},
   "outputs": [],
   "source": [
    "sns.barplot(x=\"Cell number\", y=\"Cell confluence\", data=data, capsize=.3, ci=\"sd\")\n",
    "sns.swarmplot(x=\"Cell number\", y=\"Cell confluence\", data=data, color=\"0\", alpha=.35)\n",
    "sns.pointplot(x=\"Cell number\", y=\"Cell confluence\", data=data, color=\"0.5\")\n",
    "\n",
    "plt.title('H23 confluence 24 hr', fontsize=20)\n",
    "plt.savefig('H23 confluence 24 hr.pdf', dpi = 300)"
   ]
  },
  {
   "cell_type": "code",
   "execution_count": null,
   "metadata": {},
   "outputs": [],
   "source": [
    "sns.pointplot(x=\"Cell number\", y=\"Cell confluence\", data=data, color=\"0.5\")"
   ]
  },
  {
   "cell_type": "code",
   "execution_count": null,
   "metadata": {},
   "outputs": [],
   "source": [
    "sns.regplot(x=\"Cell number\", y=\"Cell confluence\", data=data)\n",
    "plt.xlim(0, 50000)\n",
    "\n",
    "sns.set(font_scale=1)"
   ]
  },
  {
   "cell_type": "code",
   "execution_count": 6,
   "metadata": {},
   "outputs": [
    {
     "data": {
      "image/png": "[encoded data removed]",
      "text/plain": [
       "<Figure size 432x288 with 1 Axes>"
      ]
     },
     "metadata": {},
     "output_type": "display_data"
    }
   ],
   "source": [
    "sns.regplot(x=\"Cell number\", y=\"Cell confluence\", data=data)\n",
    "plt.xlim(0, 50000)\n",
    "\n",
    "sns.set(font_scale=1.5)\n",
    "\n",
    "plt.title('H23 confluence 24 hr', fontsize=20)\n",
    "plt.savefig('H23 confluence 24 hr_regression.pdf', dpi = 300)"
   ]
  },
  {
   "cell_type": "code",
   "execution_count": null,
   "metadata": {},
   "outputs": [],
   "source": []
  },
  {
   "cell_type": "code",
   "execution_count": null,
   "metadata": {},
   "outputs": [],
   "source": []
  }
 ],
 "metadata": {
  "kernelspec": {
   "display_name": "Python 3",
   "language": "python",
   "name": "python3"
  },
  "language_info": {
   "codemirror_mode": {
    "name": "ipython",
    "version": 3
   },
   "file_extension": ".py",
   "mimetype": "text/x-python",
   "name": "python",
   "nbconvert_exporter": "python",
   "pygments_lexer": "ipython3",
   "version": "3.7.6"
  }
 },
 "nbformat": 4,
 "nbformat_minor": 4
}
