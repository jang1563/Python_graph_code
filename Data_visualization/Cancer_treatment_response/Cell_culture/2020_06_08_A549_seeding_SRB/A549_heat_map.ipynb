{
 "cells": [
  {
   "cell_type": "code",
   "execution_count": 2,
   "metadata": {},
   "outputs": [],
   "source": [
    "import numpy as np\n",
    "import pandas as pd\n",
    "\n",
    "\n",
    "\n",
    "import matplotlib.pyplot as plt\n",
    "import seaborn as sns\n",
    "\n",
    "%matplotlib inline\n",
    "\n",
    "\n",
    "data = pd.read_excel('A549_analysis.xlsx')"
   ]
  },
  {
   "cell_type": "code",
   "execution_count": 7,
   "metadata": {},
   "outputs": [
    {
     "data": {
      "text/html": [
       "<div>\n",
       "<style scoped>\n",
       "    .dataframe tbody tr th:only-of-type {\n",
       "        vertical-align: middle;\n",
       "    }\n",
       "\n",
       "    .dataframe tbody tr th {\n",
       "        vertical-align: top;\n",
       "    }\n",
       "\n",
       "    .dataframe thead th {\n",
       "        text-align: right;\n",
       "    }\n",
       "</style>\n",
       "<table border=\"1\" class=\"dataframe\">\n",
       "  <thead>\n",
       "    <tr style=\"text-align: right;\">\n",
       "      <th></th>\n",
       "      <th>Cell number</th>\n",
       "      <th>Time</th>\n",
       "      <th>A540</th>\n",
       "    </tr>\n",
       "  </thead>\n",
       "  <tbody>\n",
       "    <tr>\n",
       "      <th>0</th>\n",
       "      <td>5000</td>\n",
       "      <td>24 hr (1st)</td>\n",
       "      <td>0.973306</td>\n",
       "    </tr>\n",
       "    <tr>\n",
       "      <th>1</th>\n",
       "      <td>5000</td>\n",
       "      <td>24 hr (2nd)</td>\n",
       "      <td>0.997947</td>\n",
       "    </tr>\n",
       "    <tr>\n",
       "      <th>2</th>\n",
       "      <td>5000</td>\n",
       "      <td>24 hr (3rd)</td>\n",
       "      <td>1.028747</td>\n",
       "    </tr>\n",
       "    <tr>\n",
       "      <th>3</th>\n",
       "      <td>5000</td>\n",
       "      <td>24 hr (4th)</td>\n",
       "      <td>0.967146</td>\n",
       "    </tr>\n",
       "    <tr>\n",
       "      <th>4</th>\n",
       "      <td>5000</td>\n",
       "      <td>24 hr (5th_</td>\n",
       "      <td>1.059548</td>\n",
       "    </tr>\n",
       "  </tbody>\n",
       "</table>\n",
       "</div>"
      ],
      "text/plain": [
       "   Cell number         Time      A540\n",
       "0         5000  24 hr (1st)  0.973306\n",
       "1         5000  24 hr (2nd)  0.997947\n",
       "2         5000  24 hr (3rd)  1.028747\n",
       "3         5000  24 hr (4th)  0.967146\n",
       "4         5000  24 hr (5th_  1.059548"
      ]
     },
     "execution_count": 7,
     "metadata": {},
     "output_type": "execute_result"
    }
   ],
   "source": [
    "data.head()"
   ]
  },
  {
   "cell_type": "code",
   "execution_count": 4,
   "metadata": {},
   "outputs": [
    {
     "data": {
      "text/html": [
       "<div>\n",
       "<style scoped>\n",
       "    .dataframe tbody tr th:only-of-type {\n",
       "        vertical-align: middle;\n",
       "    }\n",
       "\n",
       "    .dataframe tbody tr th {\n",
       "        vertical-align: top;\n",
       "    }\n",
       "\n",
       "    .dataframe thead th {\n",
       "        text-align: right;\n",
       "    }\n",
       "</style>\n",
       "<table border=\"1\" class=\"dataframe\">\n",
       "  <thead>\n",
       "    <tr style=\"text-align: right;\">\n",
       "      <th>Time</th>\n",
       "      <th>24 hr (1st)</th>\n",
       "      <th>24 hr (2nd)</th>\n",
       "      <th>24 hr (3rd)</th>\n",
       "      <th>24 hr (4th)</th>\n",
       "      <th>24 hr (5th_</th>\n",
       "      <th>48 hr (1st)</th>\n",
       "      <th>48 hr (2nd)</th>\n",
       "      <th>48 hr (3rd)</th>\n",
       "      <th>48 hr (4th)</th>\n",
       "      <th>48 hr (5th)</th>\n",
       "    </tr>\n",
       "    <tr>\n",
       "      <th>Cell number</th>\n",
       "      <th></th>\n",
       "      <th></th>\n",
       "      <th></th>\n",
       "      <th></th>\n",
       "      <th></th>\n",
       "      <th></th>\n",
       "      <th></th>\n",
       "      <th></th>\n",
       "      <th></th>\n",
       "      <th></th>\n",
       "    </tr>\n",
       "  </thead>\n",
       "  <tbody>\n",
       "    <tr>\n",
       "      <th>5000</th>\n",
       "      <td>0.973306</td>\n",
       "      <td>0.997947</td>\n",
       "      <td>1.028747</td>\n",
       "      <td>0.967146</td>\n",
       "      <td>1.059548</td>\n",
       "      <td>1.860370</td>\n",
       "      <td>1.700205</td>\n",
       "      <td>1.767967</td>\n",
       "      <td>1.687885</td>\n",
       "      <td>1.657084</td>\n",
       "    </tr>\n",
       "    <tr>\n",
       "      <th>10000</th>\n",
       "      <td>2.193018</td>\n",
       "      <td>2.279261</td>\n",
       "      <td>2.285421</td>\n",
       "      <td>2.205339</td>\n",
       "      <td>2.186858</td>\n",
       "      <td>4.034908</td>\n",
       "      <td>4.225873</td>\n",
       "      <td>3.874743</td>\n",
       "      <td>4.041068</td>\n",
       "      <td>3.899384</td>\n",
       "    </tr>\n",
       "    <tr>\n",
       "      <th>15000</th>\n",
       "      <td>3.332649</td>\n",
       "      <td>3.412731</td>\n",
       "      <td>3.603696</td>\n",
       "      <td>3.412731</td>\n",
       "      <td>3.591376</td>\n",
       "      <td>6.036961</td>\n",
       "      <td>6.197125</td>\n",
       "      <td>6.055441</td>\n",
       "      <td>5.735113</td>\n",
       "      <td>5.451745</td>\n",
       "    </tr>\n",
       "    <tr>\n",
       "      <th>30000</th>\n",
       "      <td>6.733060</td>\n",
       "      <td>7.158111</td>\n",
       "      <td>6.696099</td>\n",
       "      <td>7.010267</td>\n",
       "      <td>6.905544</td>\n",
       "      <td>10.620123</td>\n",
       "      <td>10.626283</td>\n",
       "      <td>10.601643</td>\n",
       "      <td>10.792608</td>\n",
       "      <td>9.369610</td>\n",
       "    </tr>\n",
       "    <tr>\n",
       "      <th>45000</th>\n",
       "      <td>9.388090</td>\n",
       "      <td>9.283368</td>\n",
       "      <td>9.603696</td>\n",
       "      <td>9.289528</td>\n",
       "      <td>9.991786</td>\n",
       "      <td>13.281314</td>\n",
       "      <td>13.158111</td>\n",
       "      <td>12.406571</td>\n",
       "      <td>12.474333</td>\n",
       "      <td>11.402464</td>\n",
       "    </tr>\n",
       "  </tbody>\n",
       "</table>\n",
       "</div>"
      ],
      "text/plain": [
       "Time         24 hr (1st)  24 hr (2nd)  24 hr (3rd)  24 hr (4th)  24 hr (5th_  \\\n",
       "Cell number                                                                    \n",
       "5000            0.973306     0.997947     1.028747     0.967146     1.059548   \n",
       "10000           2.193018     2.279261     2.285421     2.205339     2.186858   \n",
       "15000           3.332649     3.412731     3.603696     3.412731     3.591376   \n",
       "30000           6.733060     7.158111     6.696099     7.010267     6.905544   \n",
       "45000           9.388090     9.283368     9.603696     9.289528     9.991786   \n",
       "\n",
       "Time         48 hr (1st)  48 hr (2nd)  48 hr (3rd)  48 hr (4th)  48 hr (5th)  \n",
       "Cell number                                                                   \n",
       "5000            1.860370     1.700205     1.767967     1.687885     1.657084  \n",
       "10000           4.034908     4.225873     3.874743     4.041068     3.899384  \n",
       "15000           6.036961     6.197125     6.055441     5.735113     5.451745  \n",
       "30000          10.620123    10.626283    10.601643    10.792608     9.369610  \n",
       "45000          13.281314    13.158111    12.406571    12.474333    11.402464  "
      ]
     },
     "execution_count": 4,
     "metadata": {},
     "output_type": "execute_result"
    }
   ],
   "source": [
    "df = data.pivot('Cell number', 'Time', 'A540')\n",
    "\n",
    "df.head()"
   ]
  },
  {
   "cell_type": "code",
   "execution_count": 8,
   "metadata": {},
   "outputs": [
    {
     "data": {
      "image/png": "[encoded data removed]",
      "text/plain": [
       "<Figure size 432x288 with 2 Axes>"
      ]
     },
     "metadata": {
      "needs_background": "light"
     },
     "output_type": "display_data"
    }
   ],
   "source": [
    "sns.heatmap(df, annot=True, fmt='.2f')\n",
    "plt.title('Heatmap of A549 cell', fontsize=20)\n",
    "plt.show()\n"
   ]
  },
  {
   "cell_type": "code",
   "execution_count": null,
   "metadata": {},
   "outputs": [],
   "source": [
    "sns.heatmap(df, annot=True, fmt='.2f')\n",
    "plt.title('Heatmap of A549 cell', fontsize=20)\n",
    "plt.savefig('A549 heatmap annotation_dpi', dpi = 300)"
   ]
  },
  {
   "cell_type": "code",
   "execution_count": null,
   "metadata": {},
   "outputs": [],
   "source": [
    "sns.heatmap(df, fmt='.2f')\n",
    "plt.title('Heatmap of A549 cell', fontsize=20)\n",
    "plt.savefig('A549 heatmap', dpi = 300)"
   ]
  },
  {
   "cell_type": "code",
   "execution_count": null,
   "metadata": {},
   "outputs": [],
   "source": []
  }
 ],
 "metadata": {
  "kernelspec": {
   "display_name": "Python 3",
   "language": "python",
   "name": "python3"
  },
  "language_info": {
   "codemirror_mode": {
    "name": "ipython",
    "version": 3
   },
   "file_extension": ".py",
   "mimetype": "text/x-python",
   "name": "python",
   "nbconvert_exporter": "python",
   "pygments_lexer": "ipython3",
   "version": "3.7.6"
  }
 },
 "nbformat": 4,
 "nbformat_minor": 4
}
